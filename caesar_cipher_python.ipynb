{
  "nbformat": 4,
  "nbformat_minor": 0,
  "metadata": {
    "colab": {
      "provenance": [],
      "authorship_tag": "ABX9TyPNtodlRI8polUpkLjuYRSW",
      "include_colab_link": true
    },
    "kernelspec": {
      "name": "python3",
      "display_name": "Python 3"
    },
    "language_info": {
      "name": "python"
    }
  },
  "cells": [
    {
      "cell_type": "markdown",
      "metadata": {
        "id": "view-in-github",
        "colab_type": "text"
      },
      "source": [
        "<a href=\"https://colab.research.google.com/github/hvssanraza/caesar-cipher-python/blob/main/caesar_cipher_python.ipynb\" target=\"_parent\"><img src=\"https://colab.research.google.com/assets/colab-badge.svg\" alt=\"Open In Colab\"/></a>"
      ]
    },
    {
      "cell_type": "code",
      "execution_count": null,
      "metadata": {
        "colab": {
          "base_uri": "https://localhost:8080/"
        },
        "id": "ErigCxKpyVz6",
        "outputId": "bacc14ee-23a3-4b1d-c100-2c75877bce22"
      },
      "outputs": [
        {
          "output_type": "stream",
          "name": "stdout",
          "text": [
            "Enter message: Hassan Raza\n",
            "Enter shift value: 3\n",
            "Encrypted message: Kdvvdq Udcd\n"
          ]
        }
      ],
      "source": [
        "text = input(\"Enter message: \")\n",
        "shift = int(input(\"Enter shift value: \"))\n",
        "encrypted = \"\"\n",
        "for char in text:\n",
        "    if char.isalpha():\n",
        "        base = 65 if char.isupper() else 97\n",
        "        encrypted += chr((ord(char) - base + shift) % 26 + base)\n",
        "    else:\n",
        "        encrypted += char\n",
        "print(\"Encrypted message:\", encrypted)\n"
      ]
    },
    {
      "cell_type": "code",
      "source": [
        "cipher = input(\"Enter encrypted message: \")\n",
        "shift = int(input(\"Enter shift value: \"))\n",
        "decrypted = \"\"\n",
        "for char in cipher:\n",
        "    if char.isalpha():\n",
        "        base = 65 if char.isupper() else 97\n",
        "        decrypted += chr((ord(char) - base - shift) % 26 + base)\n",
        "    else:\n",
        "        decrypted += char\n",
        "print(\"Decrypted message:\", decrypted)\n"
      ],
      "metadata": {
        "colab": {
          "base_uri": "https://localhost:8080/"
        },
        "id": "i1uMlPnYymlB",
        "outputId": "84bf6317-5912-462d-ea5d-19ca493c266e"
      },
      "execution_count": null,
      "outputs": [
        {
          "output_type": "stream",
          "name": "stdout",
          "text": [
            "Enter encrypted message: Kdvvdq Udcd\n",
            "Enter shift value: 3\n",
            "Decrypted message: Hassan Raza\n"
          ]
        }
      ]
    },
    {
      "cell_type": "code",
      "source": [
        "cipher = input(\"Enter encrypted text: \")\n",
        "\n",
        "def caesar_shift(text, shift):\n",
        "    out = \"\"\n",
        "    for ch in text:\n",
        "        if ch.isalpha():\n",
        "            base = 65 if ch.isupper() else 97\n",
        "            out += chr((ord(ch) - base + shift) % 26 + base)\n",
        "        else:\n",
        "            out += ch\n",
        "    return out\n",
        "\n",
        "print(\"\\nAll 26 possible decryptions:\\n\")\n",
        "for s in range(1, 27):\n",
        "    candidate = caesar_shift(cipher, -s)\n",
        "    print(f\"shift {s:2d}: {candidate}\")\n"
      ],
      "metadata": {
        "colab": {
          "base_uri": "https://localhost:8080/"
        },
        "id": "X_tHxqM2zCRV",
        "outputId": "4f33d1b5-0cb5-4272-c217-ed784fe2db9d"
      },
      "execution_count": null,
      "outputs": [
        {
          "output_type": "stream",
          "name": "stdout",
          "text": [
            "Enter encrypted text: Kdvvdq Udcd\n",
            "\n",
            "All 26 possible decryptions:\n",
            "\n",
            "shift  1: Jcuucp Tcbc\n",
            "shift  2: Ibttbo Sbab\n",
            "shift  3: Hassan Raza\n",
            "shift  4: Gzrrzm Qzyz\n",
            "shift  5: Fyqqyl Pyxy\n",
            "shift  6: Exppxk Oxwx\n",
            "shift  7: Dwoowj Nwvw\n",
            "shift  8: Cvnnvi Mvuv\n",
            "shift  9: Bummuh Lutu\n",
            "shift 10: Atlltg Ktst\n",
            "shift 11: Zskksf Jsrs\n",
            "shift 12: Yrjjre Irqr\n",
            "shift 13: Xqiiqd Hqpq\n",
            "shift 14: Wphhpc Gpop\n",
            "shift 15: Voggob Fono\n",
            "shift 16: Unffna Enmn\n",
            "shift 17: Tmeemz Dmlm\n",
            "shift 18: Slddly Clkl\n",
            "shift 19: Rkcckx Bkjk\n",
            "shift 20: Qjbbjw Ajij\n",
            "shift 21: Piaaiv Zihi\n",
            "shift 22: Ohzzhu Yhgh\n",
            "shift 23: Ngyygt Xgfg\n",
            "shift 24: Mfxxfs Wfef\n",
            "shift 25: Lewwer Vede\n",
            "shift 26: Kdvvdq Udcd\n"
          ]
        }
      ]
    }
  ]
}